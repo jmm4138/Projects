{
 "cells": [
  {
   "cell_type": "code",
   "execution_count": null,
   "metadata": {},
   "outputs": [],
   "source": [
    "import tweepy\n",
    "from textblob import TextBlob\n",
    "\n",
    "con_key = 'XXXX'\n",
    "con_secret = 'XXXX'\n",
    "acc_token = 'XXXX'\n",
    "acc_secret = 'XXX'\n",
    "\n",
    "#Use tweepy.OAuthHandler to create an authentication using the given key and secret\n",
    "auth = tweepy.OAuthHandler(consumer_key=con_key, consumer_secret=con_secret)\n",
    "auth.set_access_token(acc_token, acc_secret)\n",
    "\n",
    "#Connect to the Twitter API using the authentication\n",
    "api = tweepy.API(auth)\n",
    "\n",
    "#Use the REST API for two static searches to find recent tweets between Dec. 8-10, using the hashtags #metoo and #blacklivesmatter\n",
    "#each search removed retweets and replies to get original tweets, gathered the full tweet using tweet_mode='extended' as most were truncated\n",
    "#only tweets in english were analyzed\n",
    "\n",
    "num_needed = 1000\n",
    "metoo_list = []\n",
    "last_id = -1 # id of last tweet seen\n",
    "while len(metoo_list) < num_needed:\n",
    "    try: \n",
    "        metoo_tweets = api.search(q = 'since:2017-12-8 until:2017-12-10 #%23metoo -filter:retweets -filter:replies', tweet_mode='extended', lang = 'en', count = 1000, max_id = str(last_id - 1))\n",
    "    except tweepy.TweepError as e:\n",
    "        print(\"Error\", e)\n",
    "        break\n",
    "    else:\n",
    "        if not metoo_tweets:\n",
    "            print(\"Could not find any more metoo tweets!\")\n",
    "            break\n",
    "        metoo_list.extend(metoo_tweets)\n",
    "        last_id = metoo_tweets[-1].id\n",
    "\n",
    "blm_list = []\n",
    "while len(blm_list) < num_needed:\n",
    "    try:\n",
    "        blm_tweets = api.search(q = 'since:2017-12-8 until:2017-12-10 #%23blacklivesmatter -filter:retweets -filter:replies', tweet_mode='extended', lang = 'en', count = 1000, max_id = str(last_id - 1))\n",
    "    except tweepy.TweepError as e:\n",
    "        print(\"Error\", e)\n",
    "        break\n",
    "    else:\n",
    "        if not blm_tweets:\n",
    "            print(\"Could not find any more blm tweets!\")\n",
    "            break\n",
    "        blm_list.extend(blm_tweets)\n",
    "        last_id = blm_tweets[-1].id\n",
    "print(len(metoo_list))\n",
    "print(len(blm_list))"
   ]
  },
  {
   "cell_type": "code",
   "execution_count": null,
   "metadata": {},
   "outputs": [],
   "source": [
    "import numpy as np\n",
    "import pandas as pd\n",
    "\n",
    "#here's my code which created a dataframe for the #metoo hashtag\n",
    "metoo_data = pd.DataFrame([tweet.full_text for tweet in metoo_list], columns=['Tweets']) #placed all tweets into a column\n",
    "#these four lines removed all URls, all incorrectly translated &'s and >'s, and the #metoo hashtag from all tweets\n",
    "metoo_data['Tweets'] = metoo_data['Tweets'].str.replace('http\\S+|www.\\S+', '', case=False)\n",
    "metoo_data['Tweets'] = metoo_data['Tweets'].str.replace('&amp;', '&', case=False)\n",
    "metoo_data['Tweets'] = metoo_data['Tweets'].str.replace('&gt;', '>', case=False)\n",
    "metoo_data['Tweets'] = metoo_data['Tweets'].str.replace('#metoo', '', case=False)\n",
    "#these three lines created columns for and counted favorites, retweets; then added favorites and retweets into another column\n",
    "metoo_data['Favorite'] = np.array([tweet.favorite_count for tweet in metoo_list])\n",
    "metoo_data['Retweets'] = np.array([tweet.retweet_count for tweet in metoo_list])\n",
    "metoo_data['Engagement'] = metoo_data['Favorite'] + metoo_data['Retweets']\n",
    "#evaluated Sentiment, specifically polarity, using the TextBlob package\n",
    "metoo_data['Sentiment'] = metoo_data['Tweets'].apply(lambda tweet: TextBlob(tweet).sentiment.polarity)\n",
    "#counted the number of characters for each tweet and placed into another column\n",
    "metoo_data['Tweet Length'] = metoo_data['Tweets'].str.len()\n",
    "#these three lines counted the number of exclamation points, question marks and capital letters; then added those into aother column\n",
    "metoo_data['Exclamations/Questions'] = metoo_data['Tweets'].str.count(\"[!?]\")\n",
    "metoo_data['Capital Letters'] = metoo_data['Tweets'].str.count(\"[A-Z]\")\n",
    "metoo_data['Passion'] = metoo_data['Exclamations/Questions'] + metoo_data['Capital Letters']\n",
    "#display the #metoo dataframe\n",
    "metoo_data"
   ]
  },
  {
   "cell_type": "code",
   "execution_count": null,
   "metadata": {},
   "outputs": [],
   "source": [
    "#here's my code which created a dataframe for the #blacklivesmatter hashtag\n",
    "blm_data = pd.DataFrame([tweet.full_text for tweet in blm_list], columns=['Tweets'])\n",
    "#these four lines removed all URls, all incorrectly translated &'s and >'s, and the #blacklivesmatter hashtag from all tweets\n",
    "blm_data['Tweets'] = blm_data['Tweets'].str.replace('http\\S+|www.\\S+', '', case=False)\n",
    "blm_data['Tweets'] = blm_data['Tweets'].str.replace('&amp;', '&', case=False)\n",
    "blm_data['Tweets'] = blm_data['Tweets'].str.replace('&gt;', '>', case=False)\n",
    "blm_data['Tweets'] = blm_data['Tweets'].str.replace('#blacklivesmatter', '', case=False)\n",
    "#these three lines created columns for and counted favorites, retweets; then added favorites and retweets into another column\n",
    "blm_data['Favorite'] = np.array([tweet.favorite_count for tweet in blm_list])\n",
    "blm_data['Retweets'] = np.array([tweet.retweet_count for tweet in blm_list])\n",
    "blm_data['Engagement'] = blm_data['Favorite'] + blm_data['Retweets']\n",
    "#evaluated Sentiment, specifically polarity, using the TextBlob package\n",
    "blm_data['Sentiment'] = blm_data['Tweets'].apply(lambda tweet: TextBlob(tweet).sentiment.polarity)\n",
    "#counted the number of characters for each tweet and placed into another column\n",
    "blm_data['Tweet Length'] = blm_data['Tweets'].str.len()\n",
    "#these three lines counted the number of exclamation points, question marks and capital letters; then added those into aother column\n",
    "blm_data['Exclamations/Questions'] = blm_data['Tweets'].str.count(\"[!?]\")\n",
    "blm_data['Capital Letters'] = blm_data['Tweets'].str.count(\"[A-Z]\")\n",
    "blm_data['Passion'] = blm_data['Exclamations/Questions'] + blm_data['Capital Letters']\n",
    "#display the #blacklivesmatter dataframe\n",
    "blm_data"
   ]
  },
  {
   "cell_type": "code",
   "execution_count": null,
   "metadata": {
    "collapsed": true
   },
   "outputs": [],
   "source": [
    "#writes #metoo dataframe into a csv file\n",
    "metoo_data.to_csv(\"metoo_data4.csv\", index=False)"
   ]
  },
  {
   "cell_type": "code",
   "execution_count": null,
   "metadata": {
    "collapsed": true
   },
   "outputs": [],
   "source": [
    "#writes #blacklivesmatter dataframe into a csv file\n",
    "blm_data.to_csv(\"blm_data4.csv\", index=False)"
   ]
  },
  {
   "cell_type": "code",
   "execution_count": null,
   "metadata": {
    "collapsed": true
   },
   "outputs": [],
   "source": []
  }
 ],
 "metadata": {
  "kernelspec": {
   "display_name": "Python 3",
   "language": "python",
   "name": "python3"
  },
  "language_info": {
   "codemirror_mode": {
    "name": "ipython",
    "version": 3
   },
   "file_extension": ".py",
   "mimetype": "text/x-python",
   "name": "python",
   "nbconvert_exporter": "python",
   "pygments_lexer": "ipython3",
   "version": "3.6.3"
  }
 },
 "nbformat": 4,
 "nbformat_minor": 2
}
